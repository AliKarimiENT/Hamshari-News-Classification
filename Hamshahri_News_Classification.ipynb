{
  "nbformat": 4,
  "nbformat_minor": 0,
  "metadata": {
    "colab": {
      "name": "Hamshahri_News_Classification.ipynb",
      "provenance": [],
      "collapsed_sections": [],
      "mount_file_id": "1TM1iZL94eOcZCKLH9L14yfHSFHoxd-Fe",
      "authorship_tag": "ABX9TyM14hssXJlOBGHSN7x6H3gC",
      "include_colab_link": true
    },
    "kernelspec": {
      "name": "python3",
      "display_name": "Python 3"
    },
    "language_info": {
      "name": "python"
    },
    "accelerator": "GPU",
    "gpuClass": "standard"
  },
  "cells": [
    {
      "cell_type": "markdown",
      "metadata": {
        "id": "view-in-github",
        "colab_type": "text"
      },
      "source": [
        "<a href=\"https://colab.research.google.com/github/AliKarimiENT/Hamshari-News-Classification/blob/main/Hamshahri_News_Classification.ipynb\" target=\"_parent\"><img src=\"https://colab.research.google.com/assets/colab-badge.svg\" alt=\"Open In Colab\"/></a>"
      ]
    },
    {
      "cell_type": "markdown",
      "source": [
        "install libraries "
      ],
      "metadata": {
        "id": "UyVjTr6m-REh"
      }
    },
    {
      "cell_type": "code",
      "execution_count": null,
      "metadata": {
        "id": "nzI9ZfSn9-Bt"
      },
      "outputs": [],
      "source": [
        "!pip install nltk\n",
        "!pip install hazm\n",
        "!pip install stopwords_guilannlp\n",
        "!pip install -U -q PyDrive\n",
        "!pip install tensorflow\n",
        "!pip install -U numpy==1.21\n",
        "!pip install keras\n",
        "!pip install seaborn\n"
      ]
    },
    {
      "cell_type": "code",
      "source": [
        "from google.colab import drive\n",
        "drive.mount('/content/drive')"
      ],
      "metadata": {
        "colab": {
          "base_uri": "https://localhost:8080/"
        },
        "id": "oaqmoCgxAm62",
        "outputId": "b812dd38-3275-49c9-d9fe-fd74ac1b76b9"
      },
      "execution_count": 2,
      "outputs": [
        {
          "output_type": "stream",
          "name": "stdout",
          "text": [
            "Drive already mounted at /content/drive; to attempt to forcibly remount, call drive.mount(\"/content/drive\", force_remount=True).\n"
          ]
        }
      ]
    },
    {
      "cell_type": "markdown",
      "source": [
        "# Read data from dataset"
      ],
      "metadata": {
        "id": "B-zNA6M2LBne"
      }
    },
    {
      "cell_type": "code",
      "source": [
        "corpus_path = '/content/drive/MyDrive/University Tehran /Hamshahri-Corpus.txt'\n",
        "data = []\n",
        "category = ''\n",
        "categories = []\n",
        "desc = ''\n",
        "category_id = 0\n",
        "with open(corpus_path,'r') as f:\n",
        "  lines = f.readlines()\n",
        "  for line in lines:\n",
        "    if line is not '\\n':\n",
        "      if \".DID\" in line:\n",
        "        if category is not '' and desc is not '':\n",
        "            data.append([desc,category,category_id])\n",
        "        category = ''\n",
        "        desc = ''\n",
        "      elif \".Cat\" in line :\n",
        "        category = line.split()[1]\n",
        "        if category not in categories :\n",
        "            categories.append(category)\n",
        "        category_id = categories.index(category)\n",
        "      elif \".Date\" not in line:\n",
        "        desc = desc + line.strip('\\n')\n",
        "\n"
      ],
      "metadata": {
        "id": "-cdXs0cQB25X"
      },
      "execution_count": 3,
      "outputs": []
    },
    {
      "cell_type": "code",
      "source": [
        "import csv\n",
        "\n",
        "header = ['Text','Category','Category ID']\n",
        "with open('/content/train.csv','w',encoding = 'UTF8',newline='') as file:\n",
        "  writer = csv.writer(file)\n",
        "\n",
        "  # write the header\n",
        "  writer.writerow(header)\n",
        "\n",
        "  # write the data\n",
        "  writer.writerows(data)\n"
      ],
      "metadata": {
        "id": "yT0aeP2zLGGG"
      },
      "execution_count": 4,
      "outputs": []
    },
    {
      "cell_type": "code",
      "metadata": {
        "id": "cztLUCuyTb3u"
      },
      "source": [
        "import numpy as np\n",
        "import pandas as pd\n",
        "import seaborn as sns\n",
        "import matplotlib.pyplot as plt\n",
        "import tensorflow\n",
        "\n",
        "# Preprocessing\n",
        "from hazm import *"
      ],
      "execution_count": 5,
      "outputs": []
    },
    {
      "cell_type": "code",
      "metadata": {
        "id": "DNx25HZyQI8H",
        "colab": {
          "base_uri": "https://localhost:8080/",
          "height": 423
        },
        "outputId": "c912b017-d16a-4fd6-e270-7c543668d157"
      },
      "source": [
        "df = pd.read_csv('/content/train.csv', encoding='utf-8')[0:13000]\n",
        "df"
      ],
      "execution_count": 6,
      "outputs": [
        {
          "output_type": "execute_result",
          "data": {
            "text/plain": [
              "                                                    Text Category  Category ID\n",
              "0      جاودانگي در زندگي گروهي از طريق هنر نگاهي به ن...    adabh            0\n",
              "1      رويدادهاي هنري جهان نمايشگاه هنر در خدمت ديكتا...    adabh            0\n",
              "2      برديوار نگارخانه ها گالري گلستان: نمايشگاه طرح...    adabh            0\n",
              "3      بازي را جدي بگيريم مطالعه اي مقدماتي پيرامون ن...    ejtem            1\n",
              "4      تخته سياه و غباري كه سترده نمي شود... اشاره; ب...    elmfa            2\n",
              "...                                                  ...      ...          ...\n",
              "12995  خبرهاي تازه از فوتبال انگليس رايت ماندني شد، ك...    vrzsh           10\n",
              "12996  عصاي كارگشا در پارك لاله  نمايش عصا، عصاي كارگ...    adabh            0\n",
              "12997  جهان پهلوان ناتمام ماند و او خود تمام شد  عزت ...    adabh            0\n",
              "12998  نمايش فراموش شده ولاديمير ناباكف در بيست وسوم ...    adabh            0\n",
              "12999                  عكس روز عكس از: نصرالله كسراييان    axrooz           12\n",
              "\n",
              "[13000 rows x 3 columns]"
            ],
            "text/html": [
              "\n",
              "  <div id=\"df-c3f9993a-4548-4098-b260-dce5ad7208b8\">\n",
              "    <div class=\"colab-df-container\">\n",
              "      <div>\n",
              "<style scoped>\n",
              "    .dataframe tbody tr th:only-of-type {\n",
              "        vertical-align: middle;\n",
              "    }\n",
              "\n",
              "    .dataframe tbody tr th {\n",
              "        vertical-align: top;\n",
              "    }\n",
              "\n",
              "    .dataframe thead th {\n",
              "        text-align: right;\n",
              "    }\n",
              "</style>\n",
              "<table border=\"1\" class=\"dataframe\">\n",
              "  <thead>\n",
              "    <tr style=\"text-align: right;\">\n",
              "      <th></th>\n",
              "      <th>Text</th>\n",
              "      <th>Category</th>\n",
              "      <th>Category ID</th>\n",
              "    </tr>\n",
              "  </thead>\n",
              "  <tbody>\n",
              "    <tr>\n",
              "      <th>0</th>\n",
              "      <td>جاودانگي در زندگي گروهي از طريق هنر نگاهي به ن...</td>\n",
              "      <td>adabh</td>\n",
              "      <td>0</td>\n",
              "    </tr>\n",
              "    <tr>\n",
              "      <th>1</th>\n",
              "      <td>رويدادهاي هنري جهان نمايشگاه هنر در خدمت ديكتا...</td>\n",
              "      <td>adabh</td>\n",
              "      <td>0</td>\n",
              "    </tr>\n",
              "    <tr>\n",
              "      <th>2</th>\n",
              "      <td>برديوار نگارخانه ها گالري گلستان: نمايشگاه طرح...</td>\n",
              "      <td>adabh</td>\n",
              "      <td>0</td>\n",
              "    </tr>\n",
              "    <tr>\n",
              "      <th>3</th>\n",
              "      <td>بازي را جدي بگيريم مطالعه اي مقدماتي پيرامون ن...</td>\n",
              "      <td>ejtem</td>\n",
              "      <td>1</td>\n",
              "    </tr>\n",
              "    <tr>\n",
              "      <th>4</th>\n",
              "      <td>تخته سياه و غباري كه سترده نمي شود... اشاره; ب...</td>\n",
              "      <td>elmfa</td>\n",
              "      <td>2</td>\n",
              "    </tr>\n",
              "    <tr>\n",
              "      <th>...</th>\n",
              "      <td>...</td>\n",
              "      <td>...</td>\n",
              "      <td>...</td>\n",
              "    </tr>\n",
              "    <tr>\n",
              "      <th>12995</th>\n",
              "      <td>خبرهاي تازه از فوتبال انگليس رايت ماندني شد، ك...</td>\n",
              "      <td>vrzsh</td>\n",
              "      <td>10</td>\n",
              "    </tr>\n",
              "    <tr>\n",
              "      <th>12996</th>\n",
              "      <td>عصاي كارگشا در پارك لاله  نمايش عصا، عصاي كارگ...</td>\n",
              "      <td>adabh</td>\n",
              "      <td>0</td>\n",
              "    </tr>\n",
              "    <tr>\n",
              "      <th>12997</th>\n",
              "      <td>جهان پهلوان ناتمام ماند و او خود تمام شد  عزت ...</td>\n",
              "      <td>adabh</td>\n",
              "      <td>0</td>\n",
              "    </tr>\n",
              "    <tr>\n",
              "      <th>12998</th>\n",
              "      <td>نمايش فراموش شده ولاديمير ناباكف در بيست وسوم ...</td>\n",
              "      <td>adabh</td>\n",
              "      <td>0</td>\n",
              "    </tr>\n",
              "    <tr>\n",
              "      <th>12999</th>\n",
              "      <td>عكس روز عكس از: نصرالله كسراييان</td>\n",
              "      <td>axrooz</td>\n",
              "      <td>12</td>\n",
              "    </tr>\n",
              "  </tbody>\n",
              "</table>\n",
              "<p>13000 rows × 3 columns</p>\n",
              "</div>\n",
              "      <button class=\"colab-df-convert\" onclick=\"convertToInteractive('df-c3f9993a-4548-4098-b260-dce5ad7208b8')\"\n",
              "              title=\"Convert this dataframe to an interactive table.\"\n",
              "              style=\"display:none;\">\n",
              "        \n",
              "  <svg xmlns=\"http://www.w3.org/2000/svg\" height=\"24px\"viewBox=\"0 0 24 24\"\n",
              "       width=\"24px\">\n",
              "    <path d=\"M0 0h24v24H0V0z\" fill=\"none\"/>\n",
              "    <path d=\"M18.56 5.44l.94 2.06.94-2.06 2.06-.94-2.06-.94-.94-2.06-.94 2.06-2.06.94zm-11 1L8.5 8.5l.94-2.06 2.06-.94-2.06-.94L8.5 2.5l-.94 2.06-2.06.94zm10 10l.94 2.06.94-2.06 2.06-.94-2.06-.94-.94-2.06-.94 2.06-2.06.94z\"/><path d=\"M17.41 7.96l-1.37-1.37c-.4-.4-.92-.59-1.43-.59-.52 0-1.04.2-1.43.59L10.3 9.45l-7.72 7.72c-.78.78-.78 2.05 0 2.83L4 21.41c.39.39.9.59 1.41.59.51 0 1.02-.2 1.41-.59l7.78-7.78 2.81-2.81c.8-.78.8-2.07 0-2.86zM5.41 20L4 18.59l7.72-7.72 1.47 1.35L5.41 20z\"/>\n",
              "  </svg>\n",
              "      </button>\n",
              "      \n",
              "  <style>\n",
              "    .colab-df-container {\n",
              "      display:flex;\n",
              "      flex-wrap:wrap;\n",
              "      gap: 12px;\n",
              "    }\n",
              "\n",
              "    .colab-df-convert {\n",
              "      background-color: #E8F0FE;\n",
              "      border: none;\n",
              "      border-radius: 50%;\n",
              "      cursor: pointer;\n",
              "      display: none;\n",
              "      fill: #1967D2;\n",
              "      height: 32px;\n",
              "      padding: 0 0 0 0;\n",
              "      width: 32px;\n",
              "    }\n",
              "\n",
              "    .colab-df-convert:hover {\n",
              "      background-color: #E2EBFA;\n",
              "      box-shadow: 0px 1px 2px rgba(60, 64, 67, 0.3), 0px 1px 3px 1px rgba(60, 64, 67, 0.15);\n",
              "      fill: #174EA6;\n",
              "    }\n",
              "\n",
              "    [theme=dark] .colab-df-convert {\n",
              "      background-color: #3B4455;\n",
              "      fill: #D2E3FC;\n",
              "    }\n",
              "\n",
              "    [theme=dark] .colab-df-convert:hover {\n",
              "      background-color: #434B5C;\n",
              "      box-shadow: 0px 1px 3px 1px rgba(0, 0, 0, 0.15);\n",
              "      filter: drop-shadow(0px 1px 2px rgba(0, 0, 0, 0.3));\n",
              "      fill: #FFFFFF;\n",
              "    }\n",
              "  </style>\n",
              "\n",
              "      <script>\n",
              "        const buttonEl =\n",
              "          document.querySelector('#df-c3f9993a-4548-4098-b260-dce5ad7208b8 button.colab-df-convert');\n",
              "        buttonEl.style.display =\n",
              "          google.colab.kernel.accessAllowed ? 'block' : 'none';\n",
              "\n",
              "        async function convertToInteractive(key) {\n",
              "          const element = document.querySelector('#df-c3f9993a-4548-4098-b260-dce5ad7208b8');\n",
              "          const dataTable =\n",
              "            await google.colab.kernel.invokeFunction('convertToInteractive',\n",
              "                                                     [key], {});\n",
              "          if (!dataTable) return;\n",
              "\n",
              "          const docLinkHtml = 'Like what you see? Visit the ' +\n",
              "            '<a target=\"_blank\" href=https://colab.research.google.com/notebooks/data_table.ipynb>data table notebook</a>'\n",
              "            + ' to learn more about interactive tables.';\n",
              "          element.innerHTML = '';\n",
              "          dataTable['output_type'] = 'display_data';\n",
              "          await google.colab.output.renderOutput(dataTable, element);\n",
              "          const docLink = document.createElement('div');\n",
              "          docLink.innerHTML = docLinkHtml;\n",
              "          element.appendChild(docLink);\n",
              "        }\n",
              "      </script>\n",
              "    </div>\n",
              "  </div>\n",
              "  "
            ]
          },
          "metadata": {},
          "execution_count": 6
        }
      ]
    },
    {
      "cell_type": "markdown",
      "source": [
        "Use seaborn library and countplot function to show volume of items for each category"
      ],
      "metadata": {
        "id": "IPJmmw6xN3r-"
      }
    },
    {
      "cell_type": "code",
      "source": [
        "sns.countplot(x=df[\"Category\"])\n",
        "plt.rcParams[\"figure.figsize\"] = plt.rcParamsDefault[\"figure.figsize\"]\n",
        "plt.show()"
      ],
      "metadata": {
        "colab": {
          "base_uri": "https://localhost:8080/",
          "height": 279
        },
        "id": "75aApuZBNpm8",
        "outputId": "98b4a06f-1665-418b-d473-05a7a81d42bc"
      },
      "execution_count": 7,
      "outputs": [
        {
          "output_type": "display_data",
          "data": {
            "text/plain": [
              "<Figure size 432x288 with 1 Axes>"
            ],
            "image/png": "[encoded data removed]"
          },
          "metadata": {
            "needs_background": "light"
          }
        }
      ]
    },
    {
      "cell_type": "code",
      "source": [
        "# X is data that we set for train\n",
        "X = df[\"Text\"]\n",
        "\n",
        "# Y is the label that we get from that\n",
        "Y = df[\"Category\"]"
      ],
      "metadata": {
        "id": "fI9c3oapQQOr"
      },
      "execution_count": 8,
      "outputs": []
    },
    {
      "cell_type": "markdown",
      "source": [
        "Encode label"
      ],
      "metadata": {
        "id": "mmT1RN6tRk29"
      }
    },
    {
      "cell_type": "code",
      "source": [
        "from sklearn.preprocessing import LabelEncoder\n",
        "le = LabelEncoder()\n",
        "\n",
        "# convert categories to integers\n",
        "Y = le.fit_transform(Y)\n",
        "print(Y)"
      ],
      "metadata": {
        "colab": {
          "base_uri": "https://localhost:8080/"
        },
        "id": "SBXyQnCGRnTL",
        "outputId": "a4547086-ab85-424f-db08-c169932f5ff9"
      },
      "execution_count": 9,
      "outputs": [
        {
          "output_type": "stream",
          "name": "stdout",
          "text": [
            "[0 0 0 ... 0 0 1]\n"
          ]
        }
      ]
    },
    {
      "cell_type": "markdown",
      "source": [
        "Devide dataset to train and test parts"
      ],
      "metadata": {
        "id": "DUARKn4zS3nA"
      }
    },
    {
      "cell_type": "code",
      "source": [
        "from sklearn.model_selection import train_test_split\n",
        "X_train,X_test,Y_train,Y_test = train_test_split(X,Y,test_size=0.2)\n"
      ],
      "metadata": {
        "id": "-FHDGJdfTGBu"
      },
      "execution_count": 10,
      "outputs": []
    },
    {
      "cell_type": "markdown",
      "source": [
        "Load stopwords list"
      ],
      "metadata": {
        "id": "5oqJyHHfL7BM"
      }
    },
    {
      "cell_type": "code",
      "source": [
        "path = '/content/drive/MyDrive/University Tehran /PersianStopWords.txt'\n",
        "stopwords = []\n",
        "with open(path,'r') as f:\n",
        "    lines = f.readlines()\n",
        "    for line in lines : \n",
        "      stopwords.append(line.strip('\\n'))\n"
      ],
      "metadata": {
        "id": "xlNVx89BMHoj"
      },
      "execution_count": 11,
      "outputs": []
    },
    {
      "cell_type": "markdown",
      "source": [
        "Tokenize text"
      ],
      "metadata": {
        "id": "dHrba7VSTtBx"
      }
    },
    {
      "cell_type": "code",
      "source": [
        "from tensorflow.keras.preprocessing.text import Tokenizer\n",
        "from hazm import word_tokenize\n",
        "from hazm import Stemmer\n",
        "\n",
        "concept_words = []\n",
        "words = []\n",
        "for text in X_train:\n",
        "    text_words = []\n",
        "  # this array is list of words foreach sentence\n",
        "    for word in word_tokenize(text):\n",
        "      if word not in stopwords:\n",
        "        text_words.append(word)\n",
        "        words.append(word)\n",
        "    concept_words.append(text_words)   \n",
        "\n",
        "wordToIndex = {}\n",
        "for i,word in enumerate(words) :\n",
        "  wordToIndex[word] = i\n",
        "      \n",
        "max_words = 500\n",
        "\n",
        "seq = []\n",
        "for text in concept_words:\n",
        "  wordIndexes = []\n",
        "  for word in text:\n",
        "    wordIndexes.append(wordToIndex[word])\n",
        "  seq.append(wordIndexes)\n",
        "print(seq)"
      ],
      "metadata": {
        "colab": {
          "base_uri": "https://localhost:8080/"
        },
        "id": "Idkh8cd6UARr",
        "outputId": "61154ac9-9103-470a-b6a6-f78e012eac39"
      },
      "execution_count": 12,
      "outputs": [
        {
          "output_type": "stream",
          "name": "stderr",
          "text": [
            "IOPub data rate exceeded.\n",
            "The notebook server will temporarily stop sending output\n",
            "to the client in order to avoid crashing it.\n",
            "To change this limit, set the config variable\n",
            "`--NotebookApp.iopub_data_rate_limit`.\n",
            "\n",
            "Current values:\n",
            "NotebookApp.iopub_data_rate_limit=1000000.0 (bytes/sec)\n",
            "NotebookApp.rate_limit_window=3.0 (secs)\n",
            "\n"
          ]
        }
      ]
    },
    {
      "cell_type": "markdown",
      "source": [
        "The length of inputs must be equal\n",
        "\n",
        "Use padding to set lengthes equaly 100\n",
        "\n"
      ],
      "metadata": {
        "id": "7UiybEX0ZM44"
      }
    },
    {
      "cell_type": "code",
      "source": [
        "from tensorflow.keras.preprocessing.sequence import pad_sequences\n",
        "max_len = 100\n",
        "# because we set padding = pre it added zeros before the word indexs\n",
        "padded_docs = pad_sequences(seq,padding = 'pre',maxlen = max_len)\n",
        "print(padded_docs)"
      ],
      "metadata": {
        "colab": {
          "base_uri": "https://localhost:8080/"
        },
        "id": "yArUYUytZTlh",
        "outputId": "e52c7f6e-8261-4888-ca6f-988ccbb64b97"
      },
      "execution_count": 13,
      "outputs": [
        {
          "output_type": "stream",
          "name": "stdout",
          "text": [
            "[[2098065 2102717 2080773 ... 2097765 2104837 2104168]\n",
            " [      0       0       0 ... 2100075 2104685 2104101]\n",
            " [      0       0 2072334 ...    1026 2102936 2103754]\n",
            " ...\n",
            " [2103866 2103867 2103868 ... 2103963 2103964 2103965]\n",
            " [2104092 2104152 2104142 ... 2104178 2104179 2104180]\n",
            " [2104782 2104810 2104816 ... 2104879 2104880 2104881]]\n"
          ]
        }
      ]
    },
    {
      "cell_type": "markdown",
      "source": [
        "Generate sequential model\n",
        "\n",
        "> Use LSTM for classification\n",
        "\n"
      ],
      "metadata": {
        "id": "SeJav7a5bM3v"
      }
    },
    {
      "cell_type": "code",
      "source": [
        "from tensorflow.keras.models import Sequential\n",
        "# from tensorflow.keras import layers\n",
        "from tensorflow.keras.layers import LSTM,Dense,Input,Embedding\n",
        "\n",
        "# number of features that we select for embeddings\n",
        "embedding_vector_features = 30\n",
        "model = Sequential()\n",
        "model.add(Embedding(max_words,embedding_vector_features,input_length=max_len))\n",
        "\n",
        "#Long Short Term Memory\n",
        "model.add(LSTM(256)) \n",
        "# 256 means number of memory units\n",
        "\n",
        "# add Dense to get classification output\n",
        "# Dense layer is 1 dimentional\n",
        "model.add(Dense(1,activation='sigmoid'))\n",
        "\n",
        "model.compile(loss = 'binary_crossentropy',optimizer= 'adam',metrics =['accuracy'])\n",
        "print(model.summary())"
      ],
      "metadata": {
        "colab": {
          "base_uri": "https://localhost:8080/"
        },
        "id": "7o6V9HZVbSMF",
        "outputId": "4df8d142-0241-4bf5-89b0-4e2218c2b33a"
      },
      "execution_count": 14,
      "outputs": [
        {
          "output_type": "stream",
          "name": "stdout",
          "text": [
            "Model: \"sequential\"\n",
            "_________________________________________________________________\n",
            " Layer (type)                Output Shape              Param #   \n",
            "=================================================================\n",
            " embedding (Embedding)       (None, 100, 30)           15000     \n",
            "                                                                 \n",
            " lstm (LSTM)                 (None, 256)               293888    \n",
            "                                                                 \n",
            " dense (Dense)               (None, 1)                 257       \n",
            "                                                                 \n",
            "=================================================================\n",
            "Total params: 309,145\n",
            "Trainable params: 309,145\n",
            "Non-trainable params: 0\n",
            "_________________________________________________________________\n",
            "None\n"
          ]
        }
      ]
    },
    {
      "cell_type": "markdown",
      "source": [
        "# Fit model "
      ],
      "metadata": {
        "id": "TQ51GD28GDYE"
      }
    },
    {
      "cell_type": "code",
      "source": [
        "model.fit(padded_docs,Y_train,batch_size=128,epochs=10,validation_split=0.2)\n",
        "# validation split takes 20 percent of our train set for validation and improve parameters"
      ],
      "metadata": {
        "colab": {
          "base_uri": "https://localhost:8080/"
        },
        "id": "ZYc3LqC8GH6O",
        "outputId": "496c1919-8ad8-48fa-8dcb-9c085eb99feb"
      },
      "execution_count": 15,
      "outputs": [
        {
          "output_type": "stream",
          "name": "stdout",
          "text": [
            "Epoch 1/10\n",
            "65/65 [==============================] - 9s 25ms/step - loss: -191.0087 - accuracy: 0.0102 - val_loss: -293.7220 - val_accuracy: 0.0082\n",
            "Epoch 2/10\n",
            "65/65 [==============================] - 1s 14ms/step - loss: -367.1585 - accuracy: 0.0096 - val_loss: -442.0417 - val_accuracy: 0.0082\n",
            "Epoch 3/10\n",
            "65/65 [==============================] - 1s 14ms/step - loss: -512.6078 - accuracy: 0.0096 - val_loss: -585.6457 - val_accuracy: 0.0082\n",
            "Epoch 4/10\n",
            "65/65 [==============================] - 1s 15ms/step - loss: -655.1261 - accuracy: 0.0096 - val_loss: -727.4905 - val_accuracy: 0.0082\n",
            "Epoch 5/10\n",
            "65/65 [==============================] - 1s 15ms/step - loss: -796.3428 - accuracy: 0.0096 - val_loss: -868.4452 - val_accuracy: 0.0082\n",
            "Epoch 6/10\n",
            "65/65 [==============================] - 1s 14ms/step - loss: -936.7689 - accuracy: 0.0096 - val_loss: -1008.9423 - val_accuracy: 0.0082\n",
            "Epoch 7/10\n",
            "65/65 [==============================] - 1s 15ms/step - loss: -1076.7717 - accuracy: 0.0096 - val_loss: -1148.6804 - val_accuracy: 0.0082\n",
            "Epoch 8/10\n",
            "65/65 [==============================] - 1s 15ms/step - loss: -1216.3917 - accuracy: 0.0096 - val_loss: -1288.1042 - val_accuracy: 0.0082\n",
            "Epoch 9/10\n",
            "65/65 [==============================] - 1s 15ms/step - loss: -1355.6982 - accuracy: 0.0096 - val_loss: -1427.6537 - val_accuracy: 0.0082\n",
            "Epoch 10/10\n",
            "65/65 [==============================] - 1s 15ms/step - loss: -1494.9172 - accuracy: 0.0096 - val_loss: -1566.7651 - val_accuracy: 0.0082\n"
          ]
        },
        {
          "output_type": "execute_result",
          "data": {
            "text/plain": [
              "<keras.callbacks.History at 0x7fb5aa5bc890>"
            ]
          },
          "metadata": {},
          "execution_count": 15
        }
      ]
    }
  ]
}