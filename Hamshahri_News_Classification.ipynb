{
  "nbformat": 4,
  "nbformat_minor": 0,
  "metadata": {
    "colab": {
      "name": "Hamshahri_News_Classification.ipynb",
      "provenance": [],
      "mount_file_id": "1TM1iZL94eOcZCKLH9L14yfHSFHoxd-Fe",
      "authorship_tag": "ABX9TyP56MeVt2MHyuygTh6ineTe",
      "include_colab_link": true
    },
    "kernelspec": {
      "name": "python3",
      "display_name": "Python 3"
    },
    "language_info": {
      "name": "python"
    }
  },
  "cells": [
    {
      "cell_type": "markdown",
      "metadata": {
        "id": "view-in-github",
        "colab_type": "text"
      },
      "source": [
        "<a href=\"https://colab.research.google.com/github/AliKarimiENT/Hamshari-News-Classification/blob/main/Hamshahri_News_Classification.ipynb\" target=\"_parent\"><img src=\"https://colab.research.google.com/assets/colab-badge.svg\" alt=\"Open In Colab\"/></a>"
      ]
    },
    {
      "cell_type": "markdown",
      "source": [
        "install libraries "
      ],
      "metadata": {
        "id": "UyVjTr6m-REh"
      }
    },
    {
      "cell_type": "code",
      "execution_count": 1,
      "metadata": {
        "colab": {
          "base_uri": "https://localhost:8080/"
        },
        "id": "nzI9ZfSn9-Bt",
        "outputId": "dbb1046d-cec9-40e8-814c-fe5321c212d0"
      },
      "outputs": [
        {
          "output_type": "stream",
          "name": "stdout",
          "text": [
            "Looking in indexes: https://pypi.org/simple, https://us-python.pkg.dev/colab-wheels/public/simple/\n",
            "Requirement already satisfied: nltk in /usr/local/lib/python3.7/dist-packages (3.7)\n",
            "Requirement already satisfied: tqdm in /usr/local/lib/python3.7/dist-packages (from nltk) (4.64.0)\n",
            "Requirement already satisfied: joblib in /usr/local/lib/python3.7/dist-packages (from nltk) (1.1.0)\n",
            "Requirement already satisfied: click in /usr/local/lib/python3.7/dist-packages (from nltk) (7.1.2)\n",
            "Requirement already satisfied: regex>=2021.8.3 in /usr/local/lib/python3.7/dist-packages (from nltk) (2022.6.2)\n",
            "Looking in indexes: https://pypi.org/simple, https://us-python.pkg.dev/colab-wheels/public/simple/\n",
            "Collecting hazm\n",
            "  Downloading hazm-0.7.0-py3-none-any.whl (316 kB)\n",
            "\u001b[K     |████████████████████████████████| 316 kB 25.2 MB/s \n",
            "\u001b[?25hCollecting libwapiti>=0.2.1\n",
            "  Downloading libwapiti-0.2.1.tar.gz (233 kB)\n",
            "\u001b[K     |████████████████████████████████| 233 kB 57.7 MB/s \n",
            "\u001b[?25hCollecting nltk==3.3\n",
            "  Downloading nltk-3.3.0.zip (1.4 MB)\n",
            "\u001b[K     |████████████████████████████████| 1.4 MB 47.5 MB/s \n",
            "\u001b[?25hRequirement already satisfied: six in /usr/local/lib/python3.7/dist-packages (from nltk==3.3->hazm) (1.15.0)\n",
            "Building wheels for collected packages: nltk, libwapiti\n",
            "  Building wheel for nltk (setup.py) ... \u001b[?25l\u001b[?25hdone\n",
            "  Created wheel for nltk: filename=nltk-3.3-py3-none-any.whl size=1394487 sha256=f8199a425fd1442cb69a6271abf2bfc1eb06dd880afd787b23fd999bf58a3bbb\n",
            "  Stored in directory: /root/.cache/pip/wheels/9b/fd/0c/d92302c876e5de87ebd7fc0979d82edb93e2d8d768bf71fac4\n",
            "  Building wheel for libwapiti (setup.py) ... \u001b[?25l\u001b[?25hdone\n",
            "  Created wheel for libwapiti: filename=libwapiti-0.2.1-cp37-cp37m-linux_x86_64.whl size=154715 sha256=bfd7c61acdd86fba8b09e5eb8a9bd96ea83a50912c4403d9bcaa11ab3c9ddb86\n",
            "  Stored in directory: /root/.cache/pip/wheels/ab/b2/5b/0fe4b8f5c0e65341e8ea7bb3f4a6ebabfe8b1ac31322392dbf\n",
            "Successfully built nltk libwapiti\n",
            "Installing collected packages: nltk, libwapiti, hazm\n",
            "  Attempting uninstall: nltk\n",
            "    Found existing installation: nltk 3.7\n",
            "    Uninstalling nltk-3.7:\n",
            "      Successfully uninstalled nltk-3.7\n",
            "Successfully installed hazm-0.7.0 libwapiti-0.2.1 nltk-3.3\n",
            "Looking in indexes: https://pypi.org/simple, https://us-python.pkg.dev/colab-wheels/public/simple/\n",
            "Collecting stopwords_guilannlp\n",
            "  Downloading stopwords_guilannlp-13.2019.3.5-py3-none-any.whl (8.2 kB)\n",
            "Installing collected packages: stopwords-guilannlp\n",
            "Successfully installed stopwords-guilannlp-13.2019.3.5\n"
          ]
        }
      ],
      "source": [
        "!pip install nltk\n",
        "!pip install hazm\n",
        "!pip install stopwords_guilannlp\n",
        "!pip install -U -q PyDrive"
      ]
    },
    {
      "cell_type": "code",
      "source": [
        "from google.colab import drive\n",
        "drive.mount('/content/drive')"
      ],
      "metadata": {
        "colab": {
          "base_uri": "https://localhost:8080/"
        },
        "id": "oaqmoCgxAm62",
        "outputId": "b490eb8b-3218-4ea2-c994-d1d3db268c93"
      },
      "execution_count": 3,
      "outputs": [
        {
          "output_type": "stream",
          "name": "stdout",
          "text": [
            "Drive already mounted at /content/drive; to attempt to forcibly remount, call drive.mount(\"/content/drive\", force_remount=True).\n"
          ]
        }
      ]
    },
    {
      "cell_type": "markdown",
      "source": [
        "Read data from data set"
      ],
      "metadata": {
        "id": "B-zNA6M2LBne"
      }
    },
    {
      "cell_type": "code",
      "source": [
        "sample_path = '/content/drive/MyDrive/University Tehran /Hamshahri-Sample.txt'\n",
        "data = []\n",
        "category = ''\n",
        "desc = ''\n",
        "with open(sample_path,'r') as f:\n",
        "  lines = f.readlines()\n",
        "  for line in lines:\n",
        "    if line is not '\\n':\n",
        "      if \".DID\" in line:\n",
        "        if category is not '' and desc is not '':\n",
        "            data.append([category,desc])\n",
        "        category = ''\n",
        "        desc = ''\n",
        "      elif \".Cat\" in line :\n",
        "        category = line.split()[1]\n",
        "      elif \".Date\" not in line:\n",
        "        desc = desc + line.strip('\\n')\n",
        "\n",
        "data\n",
        "\n"
      ],
      "metadata": {
        "colab": {
          "base_uri": "https://localhost:8080/"
        },
        "id": "-cdXs0cQB25X",
        "outputId": "007c3789-08a2-4a7f-e0d8-147855449888"
      },
      "execution_count": 27,
      "outputs": [
        {
          "output_type": "execute_result",
          "data": {
            "text/plain": [
              "[['adabh',\n",
              "  'جاودانگي در زندگي گروهي از طريق هنر نگاهي به نمايشگاه آثار هنري احمد طباطبايي موضوع آثار طباطبايي مورچگان هستند ولي در باطن چنين ظاهري، اين انسانهاهستند كه در هيبتي حشره گونه در تابلوهاي نقاشي نمايشگر گوشه هايي از زندگي خود هستند. '],\n",
              " ['adabh',\n",
              "  'رويدادهاي هنري جهان نمايشگاه هنر در خدمت ديكتاتورها نمايشگاه ارتباط بين هنر وقدرت ديكتاتورها در اروپا درشهر برلين آغاز به كار كرد. به گزارش واحد مركزي خبر به نقل از شبكه خبري '],\n",
              " ['adabh',\n",
              "  'برديوار نگارخانه ها گالري گلستان: نمايشگاه طرح و ساخت نقره وسنگ ثريا امانپور از 5 تيرماه 12تااز ساعت 9 تا 12 16تا 20 و خيابان دروس شهيدكماسايي شماره . تلفن 2541589. 42 نگارخانه آفرينش سرو: نمايشگاه آثار عكاسي شهريار توكلي و فرشيد '],\n",
              " ['ejtem',\n",
              "  'بازي را جدي بگيريم مطالعه اي مقدماتي پيرامون نقش بازي در زندگي اجتماعي و ساماندهي گردشگاهها حركت و شلوغ كردن جلوه اي ازلذت كودكانه است، سركوبومخالفت با جنب وجوش كودكان بتدريج آسيب رواني به بار مي آورد زمينهاي بازي بايد فعاليتهاي هنرمندانه و سازنده را در كنار بازيهاي پرتحرك تشويق و ترويج كند ']]"
            ]
          },
          "metadata": {},
          "execution_count": 27
        }
      ]
    },
    {
      "cell_type": "code",
      "source": [
        ""
      ],
      "metadata": {
        "id": "yT0aeP2zLGGG"
      },
      "execution_count": null,
      "outputs": []
    },
    {
      "cell_type": "markdown",
      "source": [
        ""
      ],
      "metadata": {
        "id": "25sOT3S_LGjl"
      }
    }
  ]
}